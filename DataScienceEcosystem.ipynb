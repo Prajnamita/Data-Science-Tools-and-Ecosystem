{
 "cells": [
  {
   "cell_type": "markdown",
   "id": "1dae200c",
   "metadata": {},
   "source": [
    "# Data Science Tools and Ecosystem "
   ]
  },
  {
   "cell_type": "markdown",
   "id": "45503954",
   "metadata": {},
   "source": [
    "In this notebook, Data Science Tools and Ecosystem are summarized."
   ]
  },
  {
   "cell_type": "markdown",
   "id": "9032bb8e",
   "metadata": {},
   "source": [
    "**Objectives:**\n",
    "* Jupyter\n",
    "* Scala\n",
    "* R\n",
    "* Git\n",
    "* RStudio IDE"
   ]
  },
  {
   "cell_type": "markdown",
   "id": "621c7953",
   "metadata": {},
   "source": [
    "#### Some of the popular languages that Data Scientists use are\n",
    "    1.SQL\n",
    "    2.Python\n",
    "    3.JavaScript\n",
    "    4.R\n",
    "    5.JAVA\n",
    "    6.Scala\n",
    "    7.C/C++"
   ]
  },
  {
   "cell_type": "markdown",
   "id": "9209220f",
   "metadata": {},
   "source": [
    "### Some of the commonly used libraries used by Data Scientists include:\n",
    "1. SciPy\n",
    "2. NumPy\n",
    "3. Pandas\n",
    "4. TensorFlow\n",
    "5. Plotly\n",
    "6. Ggplot"
   ]
  },
  {
   "cell_type": "markdown",
   "id": "9e108ca6",
   "metadata": {},
   "source": [
    "|Data Science Tools|\n",
    "------------------\n",
    "|RStudio|\n",
    "|RapidMiner|\n",
    "|TensorFlow|\n"
   ]
  },
  {
   "cell_type": "markdown",
   "id": "f7b106c4",
   "metadata": {},
   "source": [
    "### Below are a few examples of evaluating arithmetic expressions in Python\n"
   ]
  },
  {
   "cell_type": "markdown",
   "id": "9f46576c",
   "metadata": {},
   "source": [
    "This a simple arithmetic expression to mutiply then add integers\n"
   ]
  },
  {
   "cell_type": "code",
   "execution_count": 5,
   "id": "acd083bf",
   "metadata": {},
   "outputs": [
    {
     "data": {
      "text/plain": [
       "17"
      ]
     },
     "execution_count": 5,
     "metadata": {},
     "output_type": "execute_result"
    }
   ],
   "source": [
    "(3*4)+5"
   ]
  },
  {
   "cell_type": "markdown",
   "id": "dcb705a1",
   "metadata": {},
   "source": [
    " This will convert 200 minutes to hours by diving by 60"
   ]
  },
  {
   "cell_type": "code",
   "execution_count": 9,
   "id": "4720a6d6",
   "metadata": {},
   "outputs": [
    {
     "data": {
      "text/plain": [
       "3.3333333333333335"
      ]
     },
     "execution_count": 9,
     "metadata": {},
     "output_type": "execute_result"
    }
   ],
   "source": [
    "200/60"
   ]
  },
  {
   "cell_type": "markdown",
   "id": "fa797921",
   "metadata": {},
   "source": [
    "## Author\n",
    "Prajnamita Lodh"
   ]
  },
  {
   "cell_type": "code",
   "execution_count": null,
   "id": "43ba88dd",
   "metadata": {},
   "outputs": [],
   "source": []
  }
 ],
 "metadata": {
  "kernelspec": {
   "display_name": "Python 3 (ipykernel)",
   "language": "python",
   "name": "python3"
  },
  "language_info": {
   "codemirror_mode": {
    "name": "ipython",
    "version": 3
   },
   "file_extension": ".py",
   "mimetype": "text/x-python",
   "name": "python",
   "nbconvert_exporter": "python",
   "pygments_lexer": "ipython3",
   "version": "3.11.4"
  }
 },
 "nbformat": 4,
 "nbformat_minor": 5
}
